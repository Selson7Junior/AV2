{
 "cells": [
  {
   "cell_type": "markdown",
   "metadata": {},
   "source": [
    "Questão 1\n",
    "\n",
    "<img src = \"Questão 1.png\" width = \"500\">"
   ]
  },
  {
   "cell_type": "markdown",
   "metadata": {},
   "source": [
    "<img src = \"Fluxograma 1.png\" width = \"300\">"
   ]
  },
  {
   "cell_type": "code",
   "execution_count": 4,
   "metadata": {},
   "outputs": [
    {
     "name": "stdout",
     "output_type": "stream",
     "text": [
      "22.218650793650795\n"
     ]
    }
   ],
   "source": [
    "# Solicita que o usuário digite o número e armazena na variável 'n' como texto\n",
    "n = input(\"digite o número\")\n",
    "\n",
    "# Converte o texto de entrada para um número inteiro, para que possamos fazer cálculos\n",
    "n = int(n)\n",
    "\n",
    "# Inicializa a variável 's' (que guardará a soma) com o valor zero\n",
    "s = 0 \n",
    "\n",
    "# Cria um loop que fará o contador 'i' percorrer todos os números de 1 até o valor de n (incluso)\n",
    "for i in range(1, n+1):\n",
    "    # Para cada valor de 'i', calcula o termo correspondente da série (i / (n - i + 1))\n",
    "    # e o adiciona (acumula) na variável 's'\n",
    "    s += i / (n - i + 1)\n",
    "\n",
    "# Após o fim do loop, imprime na tela o resultado final da soma 's'\n",
    "print(s)"
   ]
  },
  {
   "cell_type": "markdown",
   "metadata": {},
   "source": [
    "Questão 3\n",
    "\n",
    "<img src = \"Questão 3.png\" width = \"500\">"
   ]
  },
  {
   "cell_type": "markdown",
   "metadata": {},
   "source": [
    "<img src = \"Fluxograma 3.png\" width = \"300\">"
   ]
  },
  {
   "cell_type": "code",
   "execution_count": 3,
   "metadata": {},
   "outputs": [
    {
     "data": {
      "image/png": "[encoded data removed]",
      "text/plain": [
       "<Figure size 640x480 with 1 Axes>"
      ]
     },
     "metadata": {},
     "output_type": "display_data"
    }
   ],
   "source": [
    "import numpy as np\n",
    "import matplotlib.pyplot as plt\n",
    "\n",
    "def electron_density(n, r):\n",
    "    \"\"\"\n",
    "    Função para calcular a densidade eletrônica em função do raio para um dado orbital.\n",
    "    \"\"\"\n",
    "    # Constante de Bohr (em metros)\n",
    "    a0 = 0.529e-10\n",
    "    \n",
    "    # Raio do orbital\n",
    "    rn = a0 * n**2\n",
    "    \n",
    "    # Densidade eletrônica\n",
    "    density = (1/np.pi) * (1/(rn**3)) * np.exp(-2*r/rn)\n",
    "    \n",
    "    return density\n",
    "\n",
    "# Valores de r (de 0 a 10 angstroms)\n",
    "r_values = np.linspace(0, 10, 100)\n",
    "\n",
    "# Cálculo da densidade eletrônica para os orbitais n = 1, 2 e 3 do hélio\n",
    "density_1s = electron_density(1, r_values)\n",
    "density_2s = electron_density(2, r_values)\n",
    "density_2p = electron_density(2, r_values)\n",
    "\n",
    "# Plotagem do gráfico\n",
    "plt.plot(r_values, density_1s, label='1s')\n",
    "plt.plot(r_values, density_2s, label='2s')\n",
    "plt.plot(r_values, density_2p, label='2p')\n",
    "plt.xlabel('Raio (angstroms)')\n",
    "plt.ylabel('Densidade eletrônica')\n",
    "plt.title('Densidade eletrônica do hélio em função do raio')\n",
    "plt.legend()\n",
    "plt.show()"
   ]
  },
  {
   "cell_type": "markdown",
   "metadata": {},
   "source": [
    "### **a) Primeira Análise do Gráfico**\n",
    "\n",
    "Ao rodar o programa, a percepção imediata é que os gráficos para os orbitais **'2s' e '2p' são idênticos**, com uma curva sobreposta à outra. Isso ocorre porque a função no código calcula o resultado baseando-se apenas no número quântico `n` (n=2 para ambos), o que é uma simplificação incorreta da física.\n",
    "\n",
    "Além disso, observa-se que a densidade eletrônica do orbital '1s' é mais concentrada perto do núcleo e decai rapidamente, enquanto a do nível n=2 é mais \"espalhada\", indicando que o elétron, em média, está mais distante do núcleo.\n",
    "\n",
    "### **c) A Física por Trás do Gráfico**\n",
    "\n",
    "A física por trás do gráfico é a da **probabilidade quântica**. Ele não mostra uma órbita planetária, mas sim a densidade da **\"nuvem eletrônica\"**: o eixo Y indica a probabilidade de se encontrar o elétron a uma certa distância (eixo X) do núcleo.\n",
    "\n",
    "* A curva **1s** (`n=1`) é mais \"pontuda\" e próxima do zero porque o elétron está no nível de menor energia e mais fortemente atraído pelo núcleo.\n",
    "* A curva para **n=2** é mais \"espalhada\" porque o elétron possui mais energia e, em média, fica mais longe do núcleo.\n",
    "\n",
    "É importante notar que, fisicamente, o código está errado ao igualar os orbitais 2s e 2p. O orbital 2p real tem formato de haltere e a probabilidade de encontrar o elétron no núcleo (`r=0`) é zero, diferente do que o gráfico mostra."
   ]
  },
  {
   "cell_type": "markdown",
   "metadata": {},
   "source": [
    "Questão 4\n",
    "\n",
    "<img src = \"Questão 4.png\" width = \"500\">"
   ]
  },
  {
   "cell_type": "markdown",
   "metadata": {},
   "source": [
    "<img src = \"Fluxograma 4.png\" width = \"300\">"
   ]
  },
  {
   "cell_type": "code",
   "execution_count": 2,
   "metadata": {},
   "outputs": [
    {
     "name": "stdout",
     "output_type": "stream",
     "text": [
      "300 Primos encontrados\n",
      "[2, 3, 5, 7, 11, 13, 17, 19, 23, 29, 31, 37, 41, 43, 47, 53, 59, 61, 67, 71, 73, 79, 83, 89, 97, 101, 103, 107, 109, 113, 127, 131, 137, 139, 149, 151, 157, 163, 167, 173, 179, 181, 191, 193, 197, 199, 211, 223, 227, 229, 233, 239, 241, 251, 257, 263, 269, 271, 277, 281, 283, 293, 307, 311, 313, 317, 331, 337, 347, 349, 353, 359, 367, 373, 379, 383, 389, 397, 401, 409, 419, 421, 431, 433, 439, 443, 449, 457, 461, 463, 467, 479, 487, 491, 499, 503, 509, 521, 523, 541, 547, 557, 563, 569, 571, 577, 587, 593, 599, 601, 607, 613, 617, 619, 631, 641, 643, 647, 653, 659, 661, 673, 677, 683, 691, 701, 709, 719, 727, 733, 739, 743, 751, 757, 761, 769, 773, 787, 797, 809, 811, 821, 823, 827, 829, 839, 853, 857, 859, 863, 877, 881, 883, 887, 907, 911, 919, 929, 937, 941, 947, 953, 967, 971, 977, 983, 991, 997, 1009, 1013, 1019, 1021, 1031, 1033, 1039, 1049, 1051, 1061, 1063, 1069, 1087, 1091, 1093, 1097, 1103, 1109, 1117, 1123, 1129, 1151, 1153, 1163, 1171, 1181, 1187, 1193, 1201, 1213, 1217, 1223, 1229, 1231, 1237, 1249, 1259, 1277, 1279, 1283, 1289, 1291, 1297, 1301, 1303, 1307, 1319, 1321, 1327, 1361, 1367, 1373, 1381, 1399, 1409, 1423, 1427, 1429, 1433, 1439, 1447, 1451, 1453, 1459, 1471, 1481, 1483, 1487, 1489, 1493, 1499, 1511, 1523, 1531, 1543, 1549, 1553, 1559, 1567, 1571, 1579, 1583, 1597, 1601, 1607, 1609, 1613, 1619, 1621, 1627, 1637, 1657, 1663, 1667, 1669, 1693, 1697, 1699, 1709, 1721, 1723, 1733, 1741, 1747, 1753, 1759, 1777, 1783, 1787, 1789, 1801, 1811, 1823, 1831, 1847, 1861, 1867, 1871, 1873, 1877, 1879, 1889, 1901, 1907, 1913, 1931, 1933, 1949, 1951, 1973, 1979, 1987]\n"
     ]
    }
   ],
   "source": [
    "# Inicializa uma lista vazia para armazenar os números primos encontrados\n",
    "primos = []\n",
    "\n",
    "# Cria uma variável de controle para o loop principal. O loop continuará enquanto 'parada' for True.\n",
    "parada = True\n",
    "\n",
    "# Define o primeiro número a ser testado como 2, que é o primeiro número primo.\n",
    "primo = 2\n",
    "\n",
    "# Loop principal que continua até que a condição de parada seja acionada.\n",
    "while parada:\n",
    "    # Loop interno que tenta dividir o número 'primo' atual por todos os divisores de 2 até ele mesmo.\n",
    "    for divisor in range(2, primo + 1):\n",
    "    \n",
    "        # CONDIÇÃO DE PARADA: Se a lista de primos já tem 300 números...\n",
    "        if len(primos) == 300:\n",
    "            print(\"300 Primos encontrados\")\n",
    "            parada = False  # Sinaliza para o loop 'while' parar na próxima verificação.\n",
    "            break           # Interrompe o loop 'for' imediatamente.\n",
    "            \n",
    "        # CONDIÇÃO DE SUCESSO: Se o loop chegou ao fim sem encontrar divisores...\n",
    "        # (ou seja, 'divisor' é igual ao próprio número 'primo')\n",
    "        if divisor == primo:\n",
    "            primos.append(primo) # Adiciona o número à lista de primos.\n",
    "            primo += 1           # Passa para o próximo número a ser testado.\n",
    "            break                # Interrompe o loop 'for' para começar a testar o novo 'primo'.\n",
    "\n",
    "        # CONDIÇÃO DE FALHA: Se 'primo' é divisível por algum 'divisor' antes de chegar ao fim...\n",
    "        # (o que significa que não é primo)\n",
    "        if primo % divisor == 0 and primo != divisor:\n",
    "            primo += 1           # Descarta este número e passa para o próximo a ser testado.\n",
    "            break                # Interrompe o loop 'for' para começar a testar o novo 'primo'.\n",
    "\n",
    "# Após o loop principal terminar, imprime a lista completa dos 300 primos.\n",
    "print(primos)"
   ]
  },
  {
   "cell_type": "markdown",
   "metadata": {},
   "source": [
    "Questão 5\n",
    "\n",
    "<img src = \"Questão 5.png\" width = \"500\">"
   ]
  },
  {
   "cell_type": "markdown",
   "metadata": {},
   "source": [
    "<img src = \"Fluxograma 5.png\" width = \"300\">"
   ]
  },
  {
   "cell_type": "code",
   "execution_count": 5,
   "metadata": {},
   "outputs": [
    {
     "name": "stdout",
     "output_type": "stream",
     "text": [
      "Tempo de queda: 4.22 segundos\n",
      "Velocidade ao atingir o solo: 35.86 m/s\n"
     ]
    }
   ],
   "source": [
    "import math\n",
    "\n",
    "# Inicializa listas vazias para armazenar os dados de cada passo da simulação\n",
    "trajetoria_tempo = []\n",
    "trajetoria_x = []\n",
    "trajetoria_y = []\n",
    "velocidade_x = []\n",
    "velocidade_y = []\n",
    "velocidade_modulo = []\n",
    "\n",
    "# Define as condições iniciais e constantes físicas do problema\n",
    "h_inicial = 45.0      # Altura inicial em metros\n",
    "v_inicial = 20.0      # Velocidade inicial em m/s\n",
    "angulo_graus = 30.0   # Ângulo de lançamento em graus\n",
    "g = -9.81             # Aceleração da gravidade em m/s^2\n",
    "\n",
    "# Converte o ângulo de graus para radianos, necessário para as funções trigonométricas\n",
    "angulo_rad = math.radians(angulo_graus)\n",
    "# Decompõe a velocidade inicial nos eixos X e Y\n",
    "v_inicial_x = v_inicial * math.cos(angulo_rad)\n",
    "v_inicial_y = v_inicial * math.sin(angulo_rad)\n",
    "\n",
    "# Inicializa as variáveis para o controle da simulação\n",
    "tempo = 0.0           # Tempo inicial da simulação\n",
    "dt = 0.01             # Passo de tempo (incremento) em segundos. Um valor pequeno aumenta a precisão.\n",
    "posicao_y_atual = h_inicial # Define a posição Y inicial para a primeira verificação do loop\n",
    "\n",
    "# Loop principal da simulação: continua enquanto o objeto estiver acima ou no nível do solo (y >= 0)\n",
    "while posicao_y_atual >= 0:\n",
    "    # Calcula a posição X e Y no tempo atual usando as equações do movimento\n",
    "    posicao_x_atual = v_inicial_x * tempo\n",
    "    posicao_y_atual = h_inicial + (v_inicial_y * tempo) + (0.5 * g * tempo**2)\n",
    "    \n",
    "    # Calcula as componentes da velocidade e o módulo da velocidade no tempo atual\n",
    "    v_x_atual = v_inicial_x  # Velocidade em X é constante\n",
    "    v_y_atual = v_inicial_y + (g * tempo)\n",
    "    v_modulo_atual = math.sqrt(v_x_atual**2 + v_y_atual**2)\n",
    "    \n",
    "    # Armazena todos os dados calculados para este passo de tempo nas listas\n",
    "    trajetoria_tempo.append(tempo)\n",
    "    trajetoria_x.append(posicao_x_atual)\n",
    "    trajetoria_y.append(posicao_y_atual)\n",
    "    velocidade_x.append(v_x_atual)\n",
    "    velocidade_y.append(v_y_atual)\n",
    "    velocidade_modulo.append(v_modulo_atual)\n",
    "    \n",
    "    # Avança o tempo para o próximo passo da simulação\n",
    "    tempo += dt\n",
    "\n",
    "# Após o fim do loop, extrai os resultados finais do último ponto da trajetória\n",
    "tempo_de_queda = trajetoria_tempo[-1]\n",
    "velocidade_final_modulo = velocidade_modulo[-1]\n",
    "\n",
    "# Imprime os resultados finais formatados na tela\n",
    "print(f\"Tempo de queda: {tempo_de_queda:.2f} segundos\")\n",
    "print(f\"Velocidade ao atingir o solo: {velocidade_final_modulo:.2f} m/s\")"
   ]
  }
 ],
 "metadata": {
  "kernelspec": {
   "display_name": "Python 3",
   "language": "python",
   "name": "python3"
  },
  "language_info": {
   "codemirror_mode": {
    "name": "ipython",
    "version": 3
   },
   "file_extension": ".py",
   "mimetype": "text/x-python",
   "name": "python",
   "nbconvert_exporter": "python",
   "pygments_lexer": "ipython3",
   "version": "3.13.5"
  }
 },
 "nbformat": 4,
 "nbformat_minor": 2
}
